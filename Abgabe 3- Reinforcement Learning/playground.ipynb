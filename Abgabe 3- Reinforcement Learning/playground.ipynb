{
 "cells": [
  {
   "cell_type": "code",
   "execution_count": 1,
   "metadata": {
    "collapsed": true,
    "pycharm": {
     "name": "#%%\n"
    }
   },
   "outputs": [],
   "source": [
    "grid = []\n",
    "for i in range(10):\n",
    "    grid.append([])\n",
    "    for j in range(20):\n",
    "        grid[i].append(0)"
   ]
  },
  {
   "cell_type": "code",
   "execution_count": 2,
   "outputs": [],
   "source": [
    "class Signal:\n",
    "    \"\"\"A signal allows the tram to be stopped on the current segment for ordering and preventing crashes.\"\"\"\n",
    "\n",
    "    def __init__(self):\n",
    "        \"\"\"\n",
    "        Defines the default state of a signal as being red\n",
    "        \"\"\"\n",
    "        self.status = 1\n",
    "\n",
    "    def turn_red(self):\n",
    "        \"\"\"\n",
    "        Switches the status of the signal to 1 (red light)\n",
    "        \"\"\"\n",
    "        self.status = 1\n",
    "\n",
    "    def turn_green(self):\n",
    "        \"\"\"\n",
    "        Switches the status of the signal to 0 (green light)\n",
    "        \"\"\"\n",
    "        self.status = 0\n",
    "\n",
    "\n",
    "class Switch:\n",
    "    \"\"\"A switch that replaces a track segment and allows the tram to move in different directions.\"\"\"\n",
    "    def __init__(self, alternative: str, default: str):\n",
    "        \"\"\"\n",
    "        Initializes a switch that has two states. The default state is given by what the track would be if no switching\n",
    "        would be allowed i.e. straight. The alternative state is always a directional state i.e. diagonally up and right.\n",
    "        :param alternative: switch's alternative state\n",
    "        :param default: switch's default state (usually \"-\" or \"|\")\n",
    "        \"\"\"\n",
    "        self.status = default\n",
    "        self.status_switched = alternative\n",
    "        self.default = default\n",
    "\n",
    "    def change_status(self, status_updated):\n",
    "        \"\"\"\n",
    "        Switches Status between the default state and the activated state\n",
    "        :param status_updated: new state for switch, is validated against base values\n",
    "        \"\"\"\n",
    "        assert status_updated in [self.default, self.status_switched]\n",
    "\n",
    "        self.status = status_updated\n",
    "\n",
    "\n",
    "class Stop:\n",
    "    \"\"\"A stop is defined as a station on the network.\"\"\"\n",
    "\n",
    "    def __init__(self, name: str=None):\n",
    "        \"\"\"\n",
    "        Initializes the stop with a given name. The name can be used in downstream task to check if a tram should be\n",
    "        there.\n",
    "        :param name:\n",
    "        \"\"\"\n",
    "        self.name = name"
   ],
   "metadata": {
    "collapsed": false,
    "pycharm": {
     "name": "#%%\n"
    }
   }
  },
  {
   "cell_type": "code",
   "execution_count": 3,
   "outputs": [
    {
     "data": {
      "text/plain": "[[0, 0, 0, 0, 0, 0, 0, 0, 0, 0, 0, 0, 0, 0, 0, 0, 0, 0, 0, 0],\n [0, 0, 0, 0, 0, 0, 0, 0, 0, 0, 0, 0, 0, 0, 0, 0, 0, 0, 0, 0],\n [0, 0, 0, 0, 0, 0, 0, 0, 0, 0, 0, 0, 0, 0, 0, 0, 0, 0, 0, 0],\n [0, 0, 0, 0, 0, 0, 0, 0, 0, 0, 0, 0, 0, 0, 0, 0, 0, 0, 0, 0],\n [0, 0, 0, 0, 0, 0, 0, 0, 0, 0, 0, 0, 0, 0, 0, 0, 0, 0, 0, 0],\n [0, 0, 0, 0, 0, 0, 0, 0, 0, 0, 0, 0, 0, 0, 0, 0, 0, 0, 0, 0],\n [0, 0, 0, 0, 0, 0, 0, 0, 0, 0, 0, 0, 0, 0, 0, 0, 0, 0, 0, 0],\n [0, 0, 0, 0, 0, 0, 0, 0, 0, 0, 0, 0, 0, 0, 0, 0, 0, 0, 0, 0],\n [0, 0, 0, 0, 0, 0, 0, 0, 0, 0, 0, 0, 0, 0, 0, 0, 0, 0, 0, 0],\n [0, 0, 0, 0, 0, 0, 0, 0, 0, 0, 0, 0, 0, 0, 0, 0, 0, 0, 0, 0]]"
     },
     "execution_count": 3,
     "metadata": {},
     "output_type": "execute_result"
    }
   ],
   "source": [
    "grid"
   ],
   "metadata": {
    "collapsed": false,
    "pycharm": {
     "name": "#%%\n"
    }
   }
  },
  {
   "cell_type": "code",
   "execution_count": 4,
   "outputs": [
    {
     "ename": "SyntaxError",
     "evalue": "invalid syntax (2441232456.py, line 1)",
     "output_type": "error",
     "traceback": [
      "\u001B[1;36m  Input \u001B[1;32mIn [4]\u001B[1;36m\u001B[0m\n\u001B[1;33m    [[0, 0, 0, 0, 0, 0, 0, 0, 0, 0, 0, 0, 0, 0, |, |, 0, 0, 0, 0], 0 | 14\u001B[0m\n\u001B[1;37m                                                ^\u001B[0m\n\u001B[1;31mSyntaxError\u001B[0m\u001B[1;31m:\u001B[0m invalid syntax\n"
     ]
    }
   ],
   "source": [
    "[[0, 0, 0, 0, 0, 0, 0, 0, 0, 0, 0, 0, 0, 0, |, |, 0, 0, 0, 0], 0 | 14\n",
    " [0, 0, 0, 0, 0, 0, 0, 0, 0, 0, 0, 0, 0, 0, |, |, 0, 0, 0, 0],\n",
    " [0, 0, 0, 0, 0, 0, 0, 0, 0, 0, 0, 0, 0, 0, H, S, 0, 0, 0, 0],\n",
    " [0, 0, 0, 0, 0, 0, 0, 0, 0, 0, 0, 0, 0, 0, W, |, 0, 0, 0, 0],\n",
    " [-, -, -, S, -, W, H, -, -, -, -, -, -, -, -, -, W, H, -, -], 4\n",
    " [-, -, H, W, -, -, -, S, -, -, -, -, H, W, W, W, -, S, -, -], 5\n",
    " [0, 0, 0, 0, |, W, 0, 0, 0, 0, 0, 0, 0, 0, |, W, 0, 0, 0, 0],\n",
    " [0, 0, 0, 0, S, H, 0, 0, 0, 0, 0, 0, 0, 0, S, H, 0, 0, 0, 0],\n",
    " [0, 0, 0, 0, |, |, 0, 0, 0, 0, 0, 0, 0, 0, |, |, 0, 0, 0, 0],\n",
    " [0, 0, 0, 0, |, |, 0, 0, 0, 0, 0, 0, 0, 0, |, |, 0, 0, 0, 0]] 9 | 15"
   ],
   "metadata": {
    "collapsed": false,
    "pycharm": {
     "name": "#%%\n"
    }
   }
  },
  {
   "cell_type": "code",
   "execution_count": 5,
   "outputs": [],
   "source": [
    "grid = [[0, 0, 0, 0, 0, 0, 0, 0, 0, 0, 0, 0, 0, 0, \"|\", \"|\", 0, 0, 0, 0],\n",
    " [0, 0, 0, 0, 0, 0, 0, 0, 0, 0, 0, 0, 0, 0, \"|\", \"|\", 0, 0, 0, 0],\n",
    " [0, 0, 0, 0, 0, 0, 0, 0, 0, 0, 0, 0, 0, 0, Signal(), Stop(), 0, 0, 0, 0],\n",
    " [0, 0, 0, 0, 0, 0, 0, 0, 0, 0, 0, 0, 0, 0, Switch(\"|\", \"//\"), \"|\", 0, 0, 0, 0],\n",
    " [\"-\", \"-\", \"-\", Stop(), \"-\", Switch(\"-\", \"//\"), Signal(), \"-\", \"-\", \"-\", \"-\", \"-\", \"-\", \"-\", \"-\", \"-\", Switch(\"-\", \"\\\\\"), Signal(), \"-\", \"-\"],\n",
    " [\"-\", \"-\", Signal(), Switch(\"-\", \"\\\\\"), \"-\", \"-\", \"-\", Stop(), \"-\", \"-\", \"-\", \"-\", Signal(), Switch(\"-\", \"\\\\\"), Switch(\"-\", \"//\"), Switch(\"-\", \"\\\\\"), \"-\", Stop(), \"-\", \"-\"],\n",
    " [0, 0, 0, 0, \"|\", Switch(\"|\", \"//\"), 0, 0, 0, 0, 0, 0, 0, 0, \"|\", Switch(\"|\", \"//\"), 0, 0, 0, 0],\n",
    " [0, 0, 0, 0, Stop(), Signal(), 0, 0, 0, 0, 0, 0, 0, 0, Stop(), Signal(), 0, 0, 0, 0],\n",
    " [0, 0, 0, 0, \"|\", \"|\", 0, 0, 0, 0, 0, 0, 0, 0, \"|\", \"|\", 0, 0, 0, 0],\n",
    " [0, 0, 0, 0, \"|\", \"|\", 0, 0, 0, 0, 0, 0, 0, 0, \"|\", \"|\", 0, 0, 0, 0]]"
   ],
   "metadata": {
    "collapsed": false,
    "pycharm": {
     "name": "#%%\n"
    }
   }
  },
  {
   "cell_type": "code",
   "execution_count": 6,
   "outputs": [
    {
     "name": "stdout",
     "output_type": "stream",
     "text": [
      "Signal at 2, 14\n",
      "Signal at 4, 6\n",
      "Signal at 4, 17\n",
      "Signal at 5, 2\n",
      "Signal at 5, 12\n",
      "Signal at 7, 5\n",
      "Signal at 7, 15\n"
     ]
    }
   ],
   "source": [
    "for y, row in enumerate(grid):\n",
    "    for x, col in enumerate(row):\n",
    "        if type(col) == Signal:\n",
    "            print(f\"Signal at {y}, {x}\")"
   ],
   "metadata": {
    "collapsed": false,
    "pycharm": {
     "name": "#%%\n"
    }
   }
  },
  {
   "cell_type": "code",
   "execution_count": null,
   "outputs": [],
   "source": [],
   "metadata": {
    "collapsed": false,
    "pycharm": {
     "name": "#%%\n"
    }
   }
  }
 ],
 "metadata": {
  "kernelspec": {
   "display_name": "Python 3",
   "language": "python",
   "name": "python3"
  },
  "language_info": {
   "codemirror_mode": {
    "name": "ipython",
    "version": 2
   },
   "file_extension": ".py",
   "mimetype": "text/x-python",
   "name": "python",
   "nbconvert_exporter": "python",
   "pygments_lexer": "ipython2",
   "version": "2.7.6"
  }
 },
 "nbformat": 4,
 "nbformat_minor": 0
}